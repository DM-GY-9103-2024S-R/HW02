{
 "cells": [
  {
   "cell_type": "markdown",
   "metadata": {},
   "source": [
    "### 01C\n",
    "\n",
    "To fix the `sum_of_ints()` function we have to check if our `i0` and `i1` parameters are in the right order, from smallerst to largest, or, `i0` has to be smaller than `i1`.\n",
    "\n",
    "If not, we have to swap them:\n",
    "\n",
    "```py\n",
    "if i0 > i1:\n",
    "  # swap i0 and i1\n",
    "```"
   ]
  },
  {
   "cell_type": "markdown",
   "metadata": {},
   "source": [
    "### 02A\n",
    "\n",
    "Can just use the `sum()` function from python inside the `sum_list()` function."
   ]
  },
  {
   "cell_type": "markdown",
   "metadata": {},
   "source": [
    "### 02B\n",
    "\n",
    "Declare a `total_sum` variable and set it to `0`.\n",
    "\n",
    "Use a `for` loop to go through all members of the list.\n",
    "\n",
    "For each member of the list, check if its `type` is `\"cost\"` or `\"income\"`, and then add/subtract the value of its `amount` member to the `total_sum` variable."
   ]
  },
  {
   "cell_type": "markdown",
   "metadata": {},
   "source": [
    "### 03A\n",
    "\n",
    "There are a couple of examples in the WK05 exercises."
   ]
  },
  {
   "cell_type": "markdown",
   "metadata": {},
   "source": [
    "### 03B\n",
    "\n",
    "We can get the length of a list with the `len()` function.\n",
    "\n",
    "First member of a list is at index `0`.\n",
    "\n",
    "Last member of a list is at index `-1`.\n",
    "\n",
    "We can sort the list by population and then look at this new list's first and last member to get smallest and largest populations. Week 05 exercises have examples of how to sort a list of objects.\n",
    "\n",
    "There are also examples of how to use the `min()` and `max()` functions on lists of objects by specifying which key of the objects we want to compare."
   ]
  },
  {
   "cell_type": "markdown",
   "metadata": {},
   "source": [
    "### 03C\n",
    "We can just grab the largest city object from the last position of a list that has been sorted by the `population` key."
   ]
  },
  {
   "cell_type": "markdown",
   "metadata": {},
   "source": [
    "### 03D\n",
    "\n",
    "We can use the formula from wikipedia:\n",
    "\n",
    "$\\displaystyle distance = \\sqrt{(p_1 - q_1)^2 + (p_2 - q_2)^2}$ where:\n",
    "\n",
    "$p_1$ and $p_2$ are the `latitude` and `longitude` of `cityA` and $q_1$ and $q_2$ are the `latitude` and `longitude` of `cityB`.\n",
    "\n",
    "`x ** 2` is how we do $x^2$, and `y ** 0.5` is how we do $\\sqrt{y}$, so the above formula in python becomes:\n",
    "\n",
    "`distance = ((p1 - q1) ** 2 + (p2 - q2) ** 2) ** 0.5`"
   ]
  },
  {
   "cell_type": "markdown",
   "metadata": {},
   "source": [
    "### 03E\n",
    "\n",
    "For this exercise we'll start with a variable with an empty list.\n",
    "\n",
    "Then, we'll use a `for` loop to iterate through all elements of our original city list.\n",
    "\n",
    "For each city in the original list, append an element to the new list.\n",
    "\n",
    "This new element should have `name` and `population` values from the original list, and a `distance` value calculated using the function from 03D."
   ]
  },
  {
   "cell_type": "markdown",
   "metadata": {},
   "source": [
    "### 03F\n",
    "\n",
    "Order the new list by the distance field (like in Week 05).\n",
    "\n",
    "First items will have the closest cities."
   ]
  },
  {
   "cell_type": "markdown",
   "metadata": {},
   "source": [
    "### 04A\n",
    "\n",
    "Just like 03A or week 05 exercises where we loaded lists of values from the internet."
   ]
  },
  {
   "cell_type": "markdown",
   "metadata": {},
   "source": [
    "### 04B\n",
    "\n",
    "Similar to 03B.\n",
    "\n",
    "Use `len()` to get length of list.\n",
    "\n",
    "Sort list by `value` member.\n",
    "\n",
    "Sort list by `bedrooms` member.\n",
    "\n",
    "Sort list by `rooms` member."
   ]
  },
  {
   "cell_type": "markdown",
   "metadata": {},
   "source": [
    "### 04C\n",
    "\n",
    "Start with empty list.\n",
    "\n",
    "For every element in list `obj`, append the value with key `key` onto list."
   ]
  },
  {
   "cell_type": "markdown",
   "metadata": {},
   "source": [
    "### 04D\n",
    "\n",
    "Use `list_from_key()` function from 04C to get a list of `value` values.\n",
    "\n",
    "Use `list_from_key()` function from 04C to get a list of `age` values."
   ]
  },
  {
   "cell_type": "markdown",
   "metadata": {},
   "source": [
    "### 04E\n",
    "\n",
    "Similar to 04D, but in addition to using a list of `value` values, we also need to get two other lists of values of two different features.\n",
    "\n",
    "Could be `age` and `rooms`, or `rooms` and `bedrooms`, or `latitude` and `longitude`.\n",
    "\n",
    "Can experiemnt with a few pairs and see if any graph tells us anything."
   ]
  }
 ],
 "metadata": {
  "language_info": {
   "name": "python"
  }
 },
 "nbformat": 4,
 "nbformat_minor": 2
}
