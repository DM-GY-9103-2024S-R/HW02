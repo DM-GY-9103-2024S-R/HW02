{
 "cells": [
  {
   "cell_type": "markdown",
   "metadata": {
    "id": "QshK8s21WBrf"
   },
   "source": [
    "# HW02\n",
    "\n",
    "## Some exercises to get started with data analysis in Python"
   ]
  },
  {
   "cell_type": "markdown",
   "metadata": {
    "id": "7Hf8SXUwWOho"
   },
   "source": [
    "### Setup\n",
    "\n",
    "Run the following 2 cells to import all necessary libraries and helpers for Homework 02"
   ]
  },
  {
   "cell_type": "code",
   "execution_count": null,
   "metadata": {},
   "outputs": [],
   "source": [
    "!wget -q https://github.com/DM-GY-9103-2024S-R/HW02/raw/main/HW02_utils.pyc\n",
    "!wget -q https://github.com/DM-GY-9103-2024S-R/9103-utils/raw/main/src/io_utils.py"
   ]
  },
  {
   "cell_type": "code",
   "execution_count": null,
   "metadata": {},
   "outputs": [],
   "source": [
    "import matplotlib.pyplot as plt\n",
    "\n",
    "from HW02_utils import Tests\n",
    "from io_utils import object_from_json_url"
   ]
  },
  {
   "cell_type": "markdown",
   "metadata": {
    "id": "7Hf8SXUwWOho"
   },
   "source": [
    "### Exercise 01:\n",
    "\n",
    "Finding the sum of integer sequences."
   ]
  },
  {
   "cell_type": "markdown",
   "metadata": {
    "id": "m1BspvAk6Nu7"
   },
   "source": [
    "#### Exercise 01A:\n",
    "\n",
    "Find the sum of all integers from $0$ to $128$."
   ]
  },
  {
   "cell_type": "code",
   "execution_count": null,
   "metadata": {
    "id": "dWYayOezBzOE",
    "tags": [
     "solution_cell"
    ]
   },
   "outputs": [],
   "source": [
    "## Work on exercise 01A here\n",
    "\n",
    "sum_loop = 0\n",
    "for i in range(129):\n",
    "  sum_loop += i\n",
    "\n",
    "sum_fun = sum(range(129))\n",
    "\n",
    "# https://letstalkscience.ca/educational-resources/backgrounders/gauss-summation\n",
    "sum_gauss = (128 * 129) // 2\n",
    "\n",
    "sum_loop, sum_fun, sum_gauss"
   ]
  },
  {
   "cell_type": "markdown",
   "metadata": {
    "id": "1rpPBQenWuIU"
   },
   "source": [
    "#### Exercise 01B:\n",
    "\n",
    "Using variables, generalize the calculation from 01A to find the sum of all integers between two given integers.\n",
    "\n",
    "For example, the sum between all integers from $4$ to $32$ is $522$."
   ]
  },
  {
   "cell_type": "code",
   "execution_count": null,
   "metadata": {
    "id": "sCjpn8fkXEaf",
    "tags": [
     "solution_cell"
    ]
   },
   "outputs": [],
   "source": [
    "## Work on exercise 01B here\n",
    "\n",
    "i0 = 4\n",
    "i1 = 32\n",
    "\n",
    "sum_loop = 0\n",
    "for i in range(i0, i1+1):\n",
    "  sum_loop += i\n",
    "\n",
    "sum_fun = sum(range(i0, i1 + 1))\n",
    "\n",
    "sum_gauss_i1 = (i1 * (i1 + 1)) // 2\n",
    "sum_gauss_i0 = (i0 * (i0 + 1)) // 2\n",
    "sum_gauss = sum_gauss_i1 - sum_gauss_i0 + i0\n",
    "\n",
    "sum_loop, sum_fun, sum_gauss"
   ]
  },
  {
   "cell_type": "markdown",
   "metadata": {
    "id": "CR-PEugdX6Tz"
   },
   "source": [
    "#### Exercise 01C:\n",
    "\n",
    "Create a function ```sum_of_ints(i0, i1)``` that returns the sum of all integers between two integers.\n",
    "\n",
    "For example, ```sum_of_ints(4, 32)``` should return $522$.\n"
   ]
  },
  {
   "cell_type": "code",
   "execution_count": null,
   "metadata": {
    "id": "ZinX1g-YYYse",
    "tags": [
     "solution_cell"
    ]
   },
   "outputs": [],
   "source": [
    "## Work on exercise 01C here\n",
    "\n",
    "def sum_of_ints(i0, i1):\n",
    "  return sum(range(min(i0, i1), max(i0, i1) + 1))"
   ]
  },
  {
   "cell_type": "markdown",
   "metadata": {
    "id": "MKA9RSFMYn9p"
   },
   "source": [
    "### Exercise 01C testing:\n",
    "\n",
    "Running the following cell will test the ```sum_of_ints()``` function on a small set of input pairs and report any combination that isn't computing correctly, if any."
   ]
  },
  {
   "cell_type": "code",
   "execution_count": null,
   "metadata": {},
   "outputs": [],
   "source": [
    "# Test 01C\n",
    "Tests.test(\"01C\", sum_of_ints)"
   ]
  },
  {
   "cell_type": "markdown",
   "metadata": {
    "id": "7mg_r9gv4kpu"
   },
   "source": [
    "### Exercise 02:\n",
    "\n",
    "Working with lists and dictionaries/objects.\n"
   ]
  },
  {
   "cell_type": "markdown",
   "metadata": {
    "id": "QrG_6ZPC6n5Y"
   },
   "source": [
    "#### Exercise 02A:\n",
    "\n",
    "Write a function `sum_list(in_list)` that returns the sum of all numbers in its argument `in_list`.\n",
    "\n",
    "For example, `sum_list([1, 4, 7, 12, 43, -10])` should return $57$.\n",
    "\n",
    "The function should skip empty and non-integer items.\n"
   ]
  },
  {
   "cell_type": "code",
   "execution_count": null,
   "metadata": {
    "id": "QOga6xp2bgwF",
    "tags": [
     "solution_cell"
    ]
   },
   "outputs": [],
   "source": [
    "# Implement 02A here\n",
    "\n",
    "def sum_list(in_list):\n",
    "  my_sum = 0\n",
    "  for i in in_list:\n",
    "    if type(i) == int or type(i) == float:\n",
    "      my_sum += i\n",
    "  return my_sum\n",
    "\n",
    "# could also be done with comprehension to filter input list\n",
    "\n",
    "def sum_list_comprehension(in_list):\n",
    "  my_list = [i for i in in_list if type(i) == int or type(i) == float]\n",
    "  return sum(my_list)"
   ]
  },
  {
   "cell_type": "markdown",
   "metadata": {
    "id": "gZgaBN4q-6nO"
   },
   "source": [
    "#### Exercise 02A test:\n",
    "\n",
    "Run the following cell to test the ```sum_list()``` function."
   ]
  },
  {
   "cell_type": "code",
   "execution_count": null,
   "metadata": {},
   "outputs": [],
   "source": [
    "# Test 02A\n",
    "Tests.test(\"02A\", sum_list)"
   ]
  },
  {
   "cell_type": "markdown",
   "metadata": {
    "id": "tlj9rUWg_eLq"
   },
   "source": [
    "#### Exercise 02B:\n",
    "\n",
    "Write a function `sum_objects(in_list)` that accept a list of objects and returns a sum according to the following specifications:\n",
    "\n",
    "Each object in the list has 2 fields, `type` and `amount`, and so will look something like this:\n",
    "\n",
    "```python\n",
    "list = [\n",
    "  { \"type\": \"cost\", \"amount\": 10.00 },\n",
    "  { \"type\": \"cost\", \"amount\": 15.99 },\n",
    "  { \"type\": \"income\", \"amount\": 150.25 },\n",
    "  { \"type\": \"income\", \"amount\": 243.52 },\n",
    "]\n",
    "```\n",
    "\n",
    "The `sum_objects(in_list)` function should iterate through all of the items in `in_list` and sum their `amount`s using positive values when `type` is `\"income\"`, and negative values when `type` is `\"cost\"`.\n",
    "\n",
    "Passing the above list to the function should return $367.78$.\n"
   ]
  },
  {
   "cell_type": "code",
   "execution_count": null,
   "metadata": {
    "id": "NBs8LPR9_LUM",
    "tags": [
     "solution_cell"
    ]
   },
   "outputs": [],
   "source": [
    "# Implement 02B here\n",
    "\n",
    "def sum_objects(in_list):\n",
    "  my_sum = 0\n",
    "  for i in in_list:\n",
    "    if i[\"type\"] == \"cost\":\n",
    "      my_sum -= i[\"amount\"]\n",
    "    elif i[\"type\"] == \"income\":\n",
    "      my_sum += i[\"amount\"]\n",
    "  return my_sum"
   ]
  },
  {
   "cell_type": "code",
   "execution_count": null,
   "metadata": {},
   "outputs": [],
   "source": [
    "# Run this cell to test if function returns 367.78\n",
    "\n",
    "test_list = [\n",
    "  { \"type\": \"cost\", \"amount\": 10.00 },\n",
    "  { \"type\": \"cost\", \"amount\": 15.99 },\n",
    "  { \"type\": \"income\", \"amount\": 150.25 },\n",
    "  { \"type\": \"income\", \"amount\": 243.52 },\n",
    "]\n",
    "\n",
    "sum_objects(test_list)"
   ]
  },
  {
   "cell_type": "markdown",
   "metadata": {
    "id": "h26qEqysLLrq"
   },
   "source": [
    "#### Exercise 02B test:\n",
    "\n",
    "Run the following cell to test the `sum_objects()` function."
   ]
  },
  {
   "cell_type": "code",
   "execution_count": null,
   "metadata": {},
   "outputs": [],
   "source": [
    "# Test 02B\n",
    "Tests.test(\"02B\", sum_objects)"
   ]
  },
  {
   "cell_type": "markdown",
   "metadata": {
    "id": "prKGt8bzScNA"
   },
   "source": [
    "### Exercise 03:\n",
    "\n",
    "Working with data files.\n",
    "\n",
    "Find the name and population of the 3 cities that are geographically closest to the world's most populous city.\n",
    "\n",
    "# 🤔😱\n"
   ]
  },
  {
   "cell_type": "markdown",
   "metadata": {
    "id": "FKsnl_NYTSk0"
   },
   "source": [
    "#### Exercise 03A:\n",
    "\n",
    "Let's break this down into a few sub-problems.\n",
    "\n",
    "First, let's load a JSON file that has information about large cities in the world.\n",
    "\n",
    "The file at this url https://raw.githubusercontent.com/DM-GY-9103-2024S-R/9103-utils/main/datasets/json/cities50k.json has a list of cities formatted like this:\n",
    "\n",
    "```py\n",
    "{\n",
    "  \"name\": \"Pittsburgh\",\n",
    "  \"country\": \"US\",\n",
    "  \"admin1\": \"Pennsylvania\",\n",
    "  \"lat\": 40.4406200,\n",
    "  \"lon\": -79.9958900,\n",
    "  \"pop\": 304391\n",
    "}\n",
    "```"
   ]
  },
  {
   "cell_type": "code",
   "execution_count": null,
   "metadata": {
    "id": "L66UbgCWGDjF",
    "tags": [
     "solution_cell"
    ]
   },
   "outputs": [],
   "source": [
    "# Work on 03A here\n",
    "\n",
    "# Define the location of the json file here\n",
    "\n",
    "CITIES_FILE = \"https://raw.githubusercontent.com/DM-GY-9103-2024S-R/9103-utils/main/datasets/json/cities50k.json\"\n",
    "\n",
    "# Use the object_from_json_url() function imported from HW02_utils\n",
    "# to load contents from the file into a Python object called \"info_cities\"\n",
    "\n",
    "info_cities = object_from_json_url(CITIES_FILE)"
   ]
  },
  {
   "cell_type": "markdown",
   "metadata": {
    "id": "KeWkaI_lYzIE"
   },
   "source": [
    "#### Exercise 03B:\n",
    "\n",
    "Ok. We should now have a list of objects with information about cities.\n",
    "\n",
    "Explore the data and answer the following questions:\n",
    "- How many cities are in this list?\n",
    "- What's the name of the first city on the list?\n",
    "- What are the latitude and longitude of the last city on the list?\n",
    "- What are the populations for the largest and smallest cities?\n",
    "- What's the name of the city with the largest population?\n"
   ]
  },
  {
   "cell_type": "code",
   "execution_count": null,
   "metadata": {
    "id": "37h20s-9ZLY_",
    "tags": [
     "solution_cell"
    ]
   },
   "outputs": [],
   "source": [
    "# Work on 03B here\n",
    "\n",
    "# How many cities are in the list?\n",
    "\n",
    "num_cities = len(info_cities)\n",
    "\n",
    "\n",
    "# What's the name of the first city on the list?\n",
    "\n",
    "first_city = info_cities[0][\"name\"]\n",
    "\n",
    "\n",
    "# What are the latitude and longitude of the last city on the list?\n",
    "\n",
    "last_latitude = info_cities[-1][\"lat\"]\n",
    "last_longitude = info_cities[-1][\"lon\"]\n",
    "\n",
    "\n",
    "# What are the populations for the largest and smallest cities?\n",
    "\n",
    "pop_list = []\n",
    "for city in info_cities:\n",
    "  pop_list.append(city[\"pop\"])\n",
    "\n",
    "largest_population = max(pop_list)\n",
    "smallest_population = min(pop_list)\n",
    "\n",
    "# with comprehension\n",
    "largest_population_comp = max([c[\"pop\"] for c in info_cities])\n",
    "smallest_population_comp = min([c[\"pop\"] for c in info_cities])\n",
    "\n",
    "\n",
    "# What's the name of the city with the largest population?\n",
    "\n",
    "largest_city_name = \"\"\n",
    "for city in info_cities:\n",
    "  if largest_population == city[\"pop\"]:\n",
    "    largest_city_name = city[\"name\"]\n",
    "\n",
    "# with sorting\n",
    "def popKey(city):\n",
    "  return city[\"pop\"]\n",
    "\n",
    "largest_city_name_sort = sorted(info_cities, key=popKey, reverse=True)[0][\"name\"]"
   ]
  },
  {
   "cell_type": "markdown",
   "metadata": {},
   "source": [
    "#### Test 03B"
   ]
  },
  {
   "cell_type": "code",
   "execution_count": null,
   "metadata": {},
   "outputs": [],
   "source": [
    "# Test 03B\n",
    "answers = [num_cities, first_city, last_latitude, last_longitude, largest_population, smallest_population, largest_city_name]\n",
    "\n",
    "Tests.test(\"03B\", answers)"
   ]
  },
  {
   "cell_type": "markdown",
   "metadata": {
    "id": "nJylXsSrZ7DH"
   },
   "source": [
    "#### Exercise 03C:\n",
    "\n",
    "We have the largest city's name and population, but we need its position.\n",
    "\n",
    "We can recycle some of the logic from above to get the whole object that contains information for the largest city."
   ]
  },
  {
   "cell_type": "code",
   "execution_count": null,
   "metadata": {
    "tags": [
     "solution_cell"
    ]
   },
   "outputs": [],
   "source": [
    "# Work on 03C here\n",
    "\n",
    "largest_city = \"\"\n",
    "\n",
    "for city in info_cities:\n",
    "  if largest_population == city[\"pop\"]:\n",
    "    largest_city = city"
   ]
  },
  {
   "cell_type": "code",
   "execution_count": null,
   "metadata": {},
   "outputs": [],
   "source": [
    "# Test 03C\n",
    "Tests.test(\"03C\", largest_city)"
   ]
  },
  {
   "cell_type": "markdown",
   "metadata": {
    "id": "nJylXsSrZ7DH"
   },
   "source": [
    "#### Exercise 03D:\n",
    "\n",
    "We should have all info about the largest city here.\n",
    "\n",
    "Now, we'll iterate through the list and use each city's latitude and longitude to calculate its distance from the largest city.\n",
    "\n",
    "Althought not $100\\%$ correct, it's ok to use the [2D Euclidean distances](https://en.wikipedia.org/wiki/Euclidean_distance#Two_dimensions) for this.\n",
    "\n",
    "Could be useful to define a function `distance(cityA, cityB)` that returns the distance between two cities."
   ]
  },
  {
   "cell_type": "code",
   "execution_count": null,
   "metadata": {
    "tags": [
     "solution_cell"
    ]
   },
   "outputs": [],
   "source": [
    "# Work on 03D here\n",
    "\n",
    "# Implement the helper function for calculating distances between 2 cities\n",
    "\n",
    "def distance(cityA, cityB):\n",
    "  latDiff = cityA[\"lat\"] - cityB[\"lat\"]\n",
    "  lonDiff = cityA[\"lon\"] - cityB[\"lon\"]\n",
    "  return (latDiff * latDiff + lonDiff * lonDiff) ** 0.5"
   ]
  },
  {
   "cell_type": "code",
   "execution_count": null,
   "metadata": {},
   "outputs": [],
   "source": [
    "# Test 03D\n",
    "Tests.test(\"03D\", distance)"
   ]
  },
  {
   "cell_type": "markdown",
   "metadata": {
    "id": "27RWtZVJeRp4"
   },
   "source": [
    "#### Exercise 03E:\n",
    "\n",
    "Ok. We implemented a function to calculate the distance between 2 cities, let's use it now.\n",
    "\n",
    "Iterate through the list of cities again, calculate the distance from each city to the largest city, but now save the name, population and distance of each city on a separate list, called `city_distances`.\n",
    "\n",
    "`city_distances` should look something like this:\n",
    "\n",
    "```py\n",
    "[\n",
    "  { \"name\": \"Abu Dhabi\", \"pop\": 603492, \"distance\": 12.34 },\n",
    "  { \"name\": \"Ajman City\", \"pop\": 490035, \"distance\": 98.76 },\n",
    "  ...\n",
    "  { \"name\": \"Norton\", \"pop\": 52054, \"distance\": 56.78 }\n",
    "]\n",
    "```\n"
   ]
  },
  {
   "cell_type": "code",
   "execution_count": null,
   "metadata": {
    "id": "DNnPgYV4erR5",
    "tags": [
     "solution_cell"
    ]
   },
   "outputs": [],
   "source": [
    "# Work on 03E here\n",
    "\n",
    "# Now calculate every city's distance from the largest city and\n",
    "# save that on a new list\n",
    "\n",
    "city_distances = []\n",
    "for city in info_cities:\n",
    "  city_distances.append({\n",
    "    \"name\": city[\"name\"],\n",
    "    \"pop\": city[\"pop\"],\n",
    "    \"distance\": distance(largest_city, city)\n",
    "  })\n",
    "\n",
    "# with comprehension\n",
    "city_distances_comp = [{\"name\": c[\"name\"], \"pop\": c[\"pop\"], \"distance\": distance(largest_city, c)} for c in info_cities]"
   ]
  },
  {
   "cell_type": "code",
   "execution_count": null,
   "metadata": {},
   "outputs": [],
   "source": [
    "# Test 03E\n",
    "Tests.test(\"03E\", city_distances)"
   ]
  },
  {
   "cell_type": "markdown",
   "metadata": {
    "id": "xJG6V-DufauE"
   },
   "source": [
    "#### Exercise 03F:\n",
    "\n",
    "Now, sort the array from the previous step by distance and get the name and population of the 3 cities closest to the largest city.\n",
    "\n",
    "The answer should be an object where its keys are city names and values are populations.\n",
    "\n",
    "Something like:\n",
    "\n",
    "```python\n",
    "closest_3 = {\n",
    "  \"pittsburgh\": 23412,\n",
    "  \"liverpool\": 172821,\n",
    "  \"oakland\": 182726\n",
    "}\n",
    "```"
   ]
  },
  {
   "cell_type": "code",
   "execution_count": null,
   "metadata": {
    "id": "pP5pYO5cfmr4",
    "tags": [
     "solution_cell"
    ]
   },
   "outputs": [],
   "source": [
    "# Work on 03F here\n",
    "\n",
    "# Sort the array and get the name and population of the 3 cities closest to the largest city\n",
    "\n",
    "def distKey(city):\n",
    "  return city[\"distance\"]\n",
    "\n",
    "cities_by_distance = sorted(city_distances, key=distKey)\n",
    "\n",
    "closest_3 = {}\n",
    "\n",
    "for i in range(1,4):\n",
    "  closest_3[cities_by_distance[i][\"name\"]] = cities_by_distance[i][\"pop\"]\n",
    "\n",
    "# OR, with comprehension\n",
    "closest_3_comp = {c[\"name\"]: c[\"pop\"] for c in cities_by_distance[1:4]}"
   ]
  },
  {
   "cell_type": "code",
   "execution_count": null,
   "metadata": {},
   "outputs": [],
   "source": [
    "# Test 03F\n",
    "Tests.test(\"03F\", closest_3)"
   ]
  },
  {
   "cell_type": "markdown",
   "metadata": {
    "id": "nengUZA4WfPb"
   },
   "source": [
    "### Exercise 04:\n",
    "\n",
    "Visualizing data files.\n"
   ]
  },
  {
   "cell_type": "markdown",
   "metadata": {
    "id": "mvoFMxi1dQEc"
   },
   "source": [
    "#### Exercise 04A:\n",
    "\n",
    "Let's load a JSON file that has information about houses in the Los Angeles metropolitan region of California.\n",
    "\n",
    "The file at this url https://raw.githubusercontent.com/DM-GY-9103-2024S-R/9103-utils/main/datasets/json/LA_housing.json has a list of objects formatted like this:\n",
    "\n",
    "```python\n",
    "{\n",
    "  \"longitude\": -114.310,\n",
    "  \"latitude\": 34.190,\n",
    "  \"age\": 15,\n",
    "  \"rooms\": 12.234,\n",
    "  \"bedrooms\": 3.514,\n",
    "  \"value\": 669000\n",
    "}\n",
    "```\n",
    "\n",
    "The number of rooms and bedrooms are not integers because some addresses have multiple units/apartments with different floorplans that get averaged."
   ]
  },
  {
   "cell_type": "code",
   "execution_count": null,
   "metadata": {
    "id": "S2bnMyEoWmxL",
    "tags": [
     "solution_cell"
    ]
   },
   "outputs": [],
   "source": [
    "# Work on 04A here\n",
    "\n",
    "# Define the location of the json file here\n",
    "\n",
    "HOUSES_FILE = \"https://raw.githubusercontent.com/DM-GY-9103-2024S-R/9103-utils/main/datasets/json/LA_housing.json\"\n",
    "\n",
    "# Use the object_from_json_url() function imported from HW02_utils\n",
    "# to load contents from the file into a Python object called \"info_houses\"\n",
    "\n",
    "info_houses = object_from_json_url(HOUSES_FILE)"
   ]
  },
  {
   "cell_type": "markdown",
   "metadata": {
    "id": "w_oZ0_CogIiM"
   },
   "source": [
    "#### Exercise 04B:\n",
    "\n",
    "Explore the data and answer the following questions:\n",
    "- How many instances are there in our dataset?\n",
    "- What's the value of the most expensive house?\n",
    "- What's the max number of bedrooms in a house?\n",
    "- What's the number of bedrooms in the house with the most rooms?\n",
    "- What's the number of rooms in the house with the most bedrooms?"
   ]
  },
  {
   "cell_type": "code",
   "execution_count": null,
   "metadata": {
    "id": "xfSeVXGkg3pg",
    "tags": [
     "solution_cell"
    ]
   },
   "outputs": [],
   "source": [
    "# Work on 04B here\n",
    "\n",
    "# How many instances are there in our dataset?\n",
    "# This is the same as asking \"how many rows\" or, in this case, \"how many houses\"\n",
    "\n",
    "num_houses = len(info_houses)\n",
    "\n",
    "\n",
    "# What's the value of the most expensive house?\n",
    "\n",
    "val_list = []\n",
    "for h in info_houses:\n",
    "  val_list.append(h[\"value\"])\n",
    "max_value = max(val_list)\n",
    "\n",
    "# with comprehension\n",
    "max_value_comp = max([h[\"value\"] for h in info_houses])\n",
    "\n",
    "\n",
    "# What's the number of bedrooms in the house with the most bedrooms?\n",
    "\n",
    "bed_list = []\n",
    "for h in info_houses:\n",
    "  bed_list.append(h[\"bedrooms\"])\n",
    "most_bedrooms = max(bed_list)\n",
    "\n",
    "# with comprehension\n",
    "most_bedrooms_comp = max([h[\"bedrooms\"] for h in info_houses])\n",
    "\n",
    "\n",
    "# What's the number of bedrooms in the house with the most rooms?\n",
    "\n",
    "def roomKey(house):\n",
    "  return house[\"rooms\"]\n",
    "\n",
    "bedrooms_in_most_rooms = sorted(info_houses, key=roomKey, reverse=True)[0][\"bedrooms\"]\n",
    "\n",
    "\n",
    "# What's the number of rooms in the house with the most bedrooms?\n",
    "\n",
    "def bedroomKey(house):\n",
    "  return house[\"bedrooms\"]\n",
    "\n",
    "rooms_in_most_bedrooms = sorted(info_houses, key=bedroomKey, reverse=True)[0][\"rooms\"]"
   ]
  },
  {
   "cell_type": "code",
   "execution_count": null,
   "metadata": {},
   "outputs": [],
   "source": [
    "# Test 04B\n",
    "answers = [num_houses, max_value, most_bedrooms, bedrooms_in_most_rooms, rooms_in_most_bedrooms]\n",
    "\n",
    "Tests.test(\"04B\", answers)"
   ]
  },
  {
   "cell_type": "markdown",
   "metadata": {
    "id": "sy2gQI7_hNTC"
   },
   "source": [
    "#### Exercise 04C:\n",
    "\n",
    "Which of the features (`longitude`, `latitude`, `age`, `rooms` or `bedrooms`) is a better indicator for value of a house?\n",
    "\n",
    "We're going to use XY scatter plots to visualize house value as a function of each of these features, and see if any of them show strong correlation.\n",
    "\n",
    "Documentation for the plotting library is here:\n",
    "https://matplotlib.org/stable/api/_as_gen/matplotlib.pyplot.scatter.html\n",
    "\n",
    "One thing to note is that the functions for plotting like to get lists of values and not lists of objects.\n",
    "\n",
    "Before we plot anything, let's define a function `list_from_key(objs, key)` that returns a list with all values of feature `key` for all of the objects in `objs`."
   ]
  },
  {
   "cell_type": "code",
   "execution_count": null,
   "metadata": {
    "tags": [
     "solution_cell"
    ]
   },
   "outputs": [],
   "source": [
    "# Work on 04C here\n",
    "\n",
    "# helper function to get lists of values from specific key\n",
    "def list_from_key(obj, key):\n",
    "  my_list = []\n",
    "  for o in obj:\n",
    "    my_list.append(o[key])\n",
    "  return my_list\n",
    "\n",
    "# OR, with comprehension\n",
    "def list_from_key_comp(obj, key):\n",
    "  return [o[key] for o in obj]"
   ]
  },
  {
   "cell_type": "code",
   "execution_count": null,
   "metadata": {},
   "outputs": [],
   "source": [
    "# Test 04C\n",
    "Tests.test(\"04C\", list_from_key)"
   ]
  },
  {
   "cell_type": "markdown",
   "metadata": {},
   "source": [
    "#### Exercise 04D:\n",
    "\n",
    "Now we can actually plot some values and start looking for correlations."
   ]
  },
  {
   "cell_type": "code",
   "execution_count": null,
   "metadata": {
    "id": "NaWAUVLCh6oN",
    "tags": [
     "solution_cell"
    ]
   },
   "outputs": [],
   "source": [
    "# Work on 04D here\n",
    "\n",
    "# get a list with all of the price values\n",
    "prices = list_from_key(info_houses, \"value\")\n",
    "\n",
    "# get a list with all of the house ages (for example)\n",
    "house_ages = list_from_key(info_houses, \"age\")\n",
    "\n",
    "\n",
    "# this is the command to plot a XY scatter plot from 2 lists\n",
    "# see documentation: https://matplotlib.org/stable/api/_as_gen/matplotlib.pyplot.scatter.html\n",
    "\n",
    "plt.scatter(house_ages, prices)\n",
    "plt.xlabel(\"age\")\n",
    "plt.ylabel(\"value\")\n",
    "plt.show()"
   ]
  },
  {
   "cell_type": "code",
   "execution_count": null,
   "metadata": {
    "tags": [
     "solution_cell"
    ]
   },
   "outputs": [],
   "source": [
    "# to plot all features\n",
    "for feature in info_houses[0]:\n",
    "  x = list_from_key(info_houses, feature)\n",
    "  if feature != \"value\":\n",
    "    plt.scatter(x, prices)\n",
    "    plt.xlabel(feature)\n",
    "    plt.ylabel(\"value\")\n",
    "    plt.show()"
   ]
  },
  {
   "cell_type": "markdown",
   "metadata": {
    "id": "UTMOs6zJsWbN"
   },
   "source": [
    "#### Exercise 04E:\n",
    "\n",
    "What if we use two features at a time?\n",
    "\n",
    "Is there a pair of features (`longitude`, `latitude`, `age`, `rooms` or `bedrooms`) that correlates to house value?\n"
   ]
  },
  {
   "cell_type": "code",
   "execution_count": null,
   "metadata": {
    "id": "JdA6xihhraSa",
    "tags": [
     "solution_cell"
    ]
   },
   "outputs": [],
   "source": [
    "# Work on 04E here\n",
    "\n",
    "# get a list with all of the price values\n",
    "prices = list_from_key(info_houses, \"value\")\n",
    "\n",
    "# get a list with all of the values of one feature\n",
    "feature_0_values = list_from_key(info_houses, \"longitude\")\n",
    "\n",
    "# get a list with all of the values of another feature\n",
    "feature_1_values = list_from_key(info_houses, \"latitude\")\n",
    "\n",
    "# this is how we plot an XY scatter plot using 3 lists\n",
    "# see documentation: https://matplotlib.org/stable/api/_as_gen/matplotlib.pyplot.scatter.html\n",
    "\n",
    "plt.scatter(feature_0_values, feature_1_values, c=prices, alpha=0.3)\n",
    "plt.xlabel(\"longitude\")\n",
    "plt.ylabel(\"latitude\")\n",
    "plt.show()"
   ]
  },
  {
   "cell_type": "code",
   "execution_count": null,
   "metadata": {
    "tags": [
     "solution_cell"
    ]
   },
   "outputs": [],
   "source": [
    "# to plot all feature pairs\n",
    "for feature_0 in info_houses[0]:\n",
    "  x = list_from_key(info_houses, feature_0)\n",
    "  for feature_1 in info_houses[0]:\n",
    "    y = list_from_key(info_houses, feature_1)\n",
    "    if feature_0 != \"value\" and feature_1 != \"value\" and feature_0 != feature_1:\n",
    "      plt.scatter(x, y, c=prices, alpha=0.3)\n",
    "      plt.xlabel(feature_0)\n",
    "      plt.ylabel(feature_1)\n",
    "      plt.show()"
   ]
  }
 ],
 "metadata": {
  "colab": {
   "authorship_tag": "ABX9TyPxe2qYxIG7EblrvD1C4Pmv",
   "provenance": []
  },
  "kernelspec": {
   "display_name": "Python 3.9.17 ('hf-model')",
   "language": "python",
   "name": "python3"
  },
  "language_info": {
   "codemirror_mode": {
    "name": "ipython",
    "version": 3
   },
   "file_extension": ".py",
   "mimetype": "text/x-python",
   "name": "python",
   "nbconvert_exporter": "python",
   "pygments_lexer": "ipython3",
   "version": "3.1.0"
  },
  "vscode": {
   "interpreter": {
    "hash": "89e384cab7c47fb35ec95d2248b519cf922ee174880eed636c26cdfb6c4df768"
   }
  }
 },
 "nbformat": 4,
 "nbformat_minor": 0
}
